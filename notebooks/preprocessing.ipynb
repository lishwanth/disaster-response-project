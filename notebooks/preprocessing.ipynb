{
 "cells": [
  {
   "cell_type": "code",
   "execution_count": null,
   "metadata": {},
   "outputs": [],
   "source": [
    "# preprocessing.ipynb\n",
    "\n",
    "# This notebook demonstrates how to preprocess tweets collected from the Twitter API.\n",
    "# It includes cleaning, tokenization, and stopword removal using NLTK and Hugging Face Transformers.\n",
    "\n",
    "import re\n",
    "import nltk\n",
    "from transformers import BertTokenizer\n",
    "\n",
    "# Download NLTK stopwords\n",
    "nltk.download('stopwords')\n",
    "\n",
    "# Initialize the tokenizer and stopwords\n",
    "tokenizer = BertTokenizer.from_pretrained('bert-base-uncased')\n",
    "stopwords = set(nltk.corpus.stopwords.words('english'))\n",
    "\n",
    "# Sample tweet\n",
    "sample_tweet = \"There’s been a massive earthquake in California! #earthquake #disaster\"\n",
    "\n",
    "# Cleaning function\n",
    "def clean_tweet(tweet):\n",
    "    tweet = re.sub(r'http\\S+', '', tweet)\n",
    "    tweet = re.sub(r'@\\w+', '', tweet)\n",
    "    tweet = re.sub(r'#', '', tweet)\n",
    "    tweet = re.sub(r'\\W', ' ', tweet)\n",
    "    tweet = tweet.lower()\n",
    "    return tweet\n",
    "\n",
    "# Apply cleaning\n",
    "cleaned_tweet = clean_tweet(sample_tweet)\n",
    "cleaned_tweet = ' '.join([word for word in cleaned_tweet.split() if word not in stopwords])\n",
    "\n",
    "# Tokenize\n",
    "tokenized_tweet = tokenizer(cleaned_tweet, padding='max_length', truncation=True, max_length=128, return_tensors=\"pt\")\n",
    "tokenized_tweet\n"
   ]
  }
 ],
 "metadata": {
  "language_info": {
   "name": "python"
  }
 },
 "nbformat": 4,
 "nbformat_minor": 2
}
