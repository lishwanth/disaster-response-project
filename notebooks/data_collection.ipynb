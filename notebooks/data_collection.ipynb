{
 "cells": [
  {
   "cell_type": "code",
   "execution_count": null,
   "metadata": {},
   "outputs": [],
   "source": [
    "# data_collection.ipynb\n",
    "\n",
    "# This notebook demonstrates how to use the Twitter API and Kafka for real-time data collection.\n",
    "# It streams tweets related to disaster events such as earthquakes, floods, hurricanes, etc.\n",
    "\n",
    "# Required libraries\n",
    "import tweepy\n",
    "from kafka import KafkaProducer\n",
    "import json\n",
    "\n",
    "# Twitter API credentials\n",
    "api_key = \"YOUR_API_KEY\"\n",
    "api_secret = \"YOUR_API_SECRET\"\n",
    "access_token = \"YOUR_ACCESS_TOKEN\"\n",
    "access_token_secret = \"YOUR_ACCESS_TOKEN_SECRET\"\n",
    "\n",
    "# Kafka Producer\n",
    "producer = KafkaProducer(bootstrap_servers='localhost:9092', value_serializer=lambda v: json.dumps(v).encode('utf-8'))\n",
    "\n",
    "# Twitter Stream Listener\n",
    "class StreamListener(tweepy.StreamListener):\n",
    "    def on_status(self, status):\n",
    "        tweet = {\n",
    "            'text': status.text,\n",
    "            'user': status.user.screen_name,\n",
    "            'created_at': str(status.created_at)\n",
    "        }\n",
    "        producer.send('disaster_tweets', tweet)\n",
    "\n",
    "# Initialize the stream\n",
    "auth = tweepy.OAuthHandler(api_key, api_secret)\n",
    "auth.set_access_token(access_token, access_token_secret)\n",
    "stream = tweepy.Stream(auth, StreamListener())\n",
    "\n",
    "# Start streaming tweets with specific keywords\n",
    "stream.filter(track=['earthquake', 'flood', 'hurricane', 'fire'], languages=['en'])\n"
   ]
  }
 ],
 "metadata": {
  "language_info": {
   "name": "python"
  }
 },
 "nbformat": 4,
 "nbformat_minor": 2
}
