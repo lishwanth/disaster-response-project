{
 "cells": [
  {
   "cell_type": "code",
   "execution_count": null,
   "metadata": {},
   "outputs": [],
   "source": [
    "# topic_modeling.ipynb\n",
    "\n",
    "# This notebook demonstrates how to perform topic modeling on disaster-related tweets\n",
    "# using Latent Dirichlet Allocation (LDA) from Scikit-learn.\n",
    "\n",
    "from sklearn.feature_extraction.text import CountVectorizer\n",
    "from sklearn.decomposition import LatentDirichletAllocation\n",
    "\n",
    "# Sample tweets\n",
    "tweets = [\n",
    "    \"Earthquake hits California!\",\n",
    "    \"Floods in Venice have reached alarming levels.\",\n",
    "    \"Hurricane causes massive damage in Florida.\",\n",
    "    \"Wildfire spreading quickly in Australia.\",\n",
    "    \"Tornado warnings issued in Texas.\"\n",
    "]\n",
    "\n",
    "# Vectorize the tweets\n",
    "vectorizer = CountVectorizer(max_df=0.95, min_df=2, stop_words='english')\n",
    "tweet_matrix = vectorizer.fit_transform(tweets)\n",
    "\n",
    "# Fit LDA model\n",
    "lda = LatentDirichletAllocation(n_components=3, random_state=42)\n",
    "lda.fit(tweet_matrix)\n",
    "\n",
    "# Display the top words for each topic\n",
    "feature_names = vectorizer.get_feature_names_out()\n",
    "for topic_idx, topic in enumerate(lda.components_):\n",
    "    print(f\"Topic #{topic_idx}:\")\n",
    "    print(\" \".join([feature_names[i] for i in topic.argsort()[:-11 - 1:-1]]))\n"
   ]
  }
 ],
 "metadata": {
  "language_info": {
   "name": "python"
  }
 },
 "nbformat": 4,
 "nbformat_minor": 2
}
